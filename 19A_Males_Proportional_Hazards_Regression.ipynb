{
  "nbformat": 4,
  "nbformat_minor": 0,
  "metadata": {
    "colab": {
      "name": "19A Males Proportional Hazards Regression.ipynb",
      "provenance": [],
      "authorship_tag": "ABX9TyMAg16A0/YvkN1mc8855EPk",
      "include_colab_link": true
    },
    "kernelspec": {
      "name": "python3",
      "display_name": "Python 3"
    },
    "language_info": {
      "name": "python"
    }
  },
  "cells": [
    {
      "cell_type": "markdown",
      "metadata": {
        "id": "view-in-github",
        "colab_type": "text"
      },
      "source": [
        "<a href=\"https://colab.research.google.com/github/EischLab/19AMalesHazardRatios/blob/main/19A_Males_Proportional_Hazards_Regression.ipynb\" target=\"_parent\"><img src=\"https://colab.research.google.com/assets/colab-badge.svg\" alt=\"Open In Colab\"/></a>"
      ]
    },
    {
      "cell_type": "markdown",
      "metadata": {
        "id": "V83HCeHB8dLx"
      },
      "source": [
        "Enclosed below is the Cox Proportional Hazards Regression for the manuscript:\n",
        "\n",
        " *Effects of a 33-ion sequential beam galactic cosmic ray analog on male mouse behavior and evaluation of CDDO-EA as a radiation countermeasure*\n",
        "\n",
        "---\n",
        "\n"
      ]
    },
    {
      "cell_type": "markdown",
      "metadata": {
        "id": "09W4YVCb_5Le"
      },
      "source": [
        "Notes: the hazard function can be interepreted as the risk of dying at time t, and can be attributed to specific variables such as diet or radiation.\n",
        "The expression is:\n",
        "h(t)=h0(t)×exp(b1x1+b2x2+...+bpxp)\n",
        "Where:\n",
        "* t represents the survival time\n",
        "* h(t) is the hazard function determined by a set of p covariates a.k.a. main effect variables (x1,x2,...,xp)\n",
        "* the coefficients (b1,b2,...,bp) measure the impact (i.e., the effect size) of covariates.\n",
        "* the term h0 is called the baseline hazard. It corresponds to the value of the hazard if all the xi are equal to zero (the quantity exp(0) equals 1). The ‘t’ in h(t) reminds us that the hazard may vary over time.\n",
        "\n",
        "\n",
        "Hazard ratios are effectively effect sizes\n",
        "Please note, Exp(Coef((bx)) = Hazard Ratio\n"
      ]
    },
    {
      "cell_type": "code",
      "metadata": {
        "colab": {
          "base_uri": "https://localhost:8080/"
        },
        "id": "wQ7AEjhEKgX1",
        "outputId": "9ee29abd-37e6-4e41-8437-489d216e89d9"
      },
      "source": [
        "pip install lifelines\n",
        "import pandas as pd"
      ],
      "execution_count": 3,
      "outputs": [
        {
          "output_type": "stream",
          "name": "stdout",
          "text": [
            "Collecting lifelines\n",
            "  Downloading lifelines-0.26.3-py3-none-any.whl (348 kB)\n",
            "\u001b[?25l\r\u001b[K     |█                               | 10 kB 25.6 MB/s eta 0:00:01\r\u001b[K     |█▉                              | 20 kB 30.1 MB/s eta 0:00:01\r\u001b[K     |██▉                             | 30 kB 32.2 MB/s eta 0:00:01\r\u001b[K     |███▊                            | 40 kB 34.5 MB/s eta 0:00:01\r\u001b[K     |████▊                           | 51 kB 36.5 MB/s eta 0:00:01\r\u001b[K     |█████▋                          | 61 kB 33.1 MB/s eta 0:00:01\r\u001b[K     |██████▋                         | 71 kB 28.5 MB/s eta 0:00:01\r\u001b[K     |███████▌                        | 81 kB 28.8 MB/s eta 0:00:01\r\u001b[K     |████████▌                       | 92 kB 30.3 MB/s eta 0:00:01\r\u001b[K     |█████████▍                      | 102 kB 31.2 MB/s eta 0:00:01\r\u001b[K     |██████████▍                     | 112 kB 31.2 MB/s eta 0:00:01\r\u001b[K     |███████████▎                    | 122 kB 31.2 MB/s eta 0:00:01\r\u001b[K     |████████████▎                   | 133 kB 31.2 MB/s eta 0:00:01\r\u001b[K     |█████████████▏                  | 143 kB 31.2 MB/s eta 0:00:01\r\u001b[K     |██████████████▏                 | 153 kB 31.2 MB/s eta 0:00:01\r\u001b[K     |███████████████                 | 163 kB 31.2 MB/s eta 0:00:01\r\u001b[K     |████████████████                | 174 kB 31.2 MB/s eta 0:00:01\r\u001b[K     |█████████████████               | 184 kB 31.2 MB/s eta 0:00:01\r\u001b[K     |█████████████████▉              | 194 kB 31.2 MB/s eta 0:00:01\r\u001b[K     |██████████████████▉             | 204 kB 31.2 MB/s eta 0:00:01\r\u001b[K     |███████████████████▊            | 215 kB 31.2 MB/s eta 0:00:01\r\u001b[K     |████████████████████▊           | 225 kB 31.2 MB/s eta 0:00:01\r\u001b[K     |█████████████████████▋          | 235 kB 31.2 MB/s eta 0:00:01\r\u001b[K     |██████████████████████▋         | 245 kB 31.2 MB/s eta 0:00:01\r\u001b[K     |███████████████████████▌        | 256 kB 31.2 MB/s eta 0:00:01\r\u001b[K     |████████████████████████▌       | 266 kB 31.2 MB/s eta 0:00:01\r\u001b[K     |█████████████████████████▍      | 276 kB 31.2 MB/s eta 0:00:01\r\u001b[K     |██████████████████████████▍     | 286 kB 31.2 MB/s eta 0:00:01\r\u001b[K     |███████████████████████████▎    | 296 kB 31.2 MB/s eta 0:00:01\r\u001b[K     |████████████████████████████▎   | 307 kB 31.2 MB/s eta 0:00:01\r\u001b[K     |█████████████████████████████▏  | 317 kB 31.2 MB/s eta 0:00:01\r\u001b[K     |██████████████████████████████  | 327 kB 31.2 MB/s eta 0:00:01\r\u001b[K     |███████████████████████████████ | 337 kB 31.2 MB/s eta 0:00:01\r\u001b[K     |████████████████████████████████| 348 kB 31.2 MB/s eta 0:00:01\r\u001b[K     |████████████████████████████████| 348 kB 31.2 MB/s \n",
            "\u001b[?25hRequirement already satisfied: matplotlib>=3.0 in /usr/local/lib/python3.7/dist-packages (from lifelines) (3.2.2)\n",
            "Requirement already satisfied: autograd>=1.3 in /usr/local/lib/python3.7/dist-packages (from lifelines) (1.3)\n",
            "Requirement already satisfied: pandas>=0.23.0 in /usr/local/lib/python3.7/dist-packages (from lifelines) (1.1.5)\n",
            "Collecting formulaic<0.3,>=0.2.2\n",
            "  Downloading formulaic-0.2.4-py3-none-any.whl (55 kB)\n",
            "\u001b[?25l\r\u001b[K     |█████▉                          | 10 kB 27.8 MB/s eta 0:00:01\r\u001b[K     |███████████▊                    | 20 kB 35.5 MB/s eta 0:00:01\r\u001b[K     |█████████████████▋              | 30 kB 44.8 MB/s eta 0:00:01\r\u001b[K     |███████████████████████▍        | 40 kB 49.4 MB/s eta 0:00:01\r\u001b[K     |█████████████████████████████▎  | 51 kB 54.0 MB/s eta 0:00:01\r\u001b[K     |████████████████████████████████| 55 kB 2.5 MB/s \n",
            "\u001b[?25hRequirement already satisfied: numpy>=1.14.0 in /usr/local/lib/python3.7/dist-packages (from lifelines) (1.19.5)\n",
            "Requirement already satisfied: scipy>=1.2.0 in /usr/local/lib/python3.7/dist-packages (from lifelines) (1.4.1)\n",
            "Collecting autograd-gamma>=0.3\n",
            "  Downloading autograd-gamma-0.5.0.tar.gz (4.0 kB)\n",
            "Requirement already satisfied: future>=0.15.2 in /usr/local/lib/python3.7/dist-packages (from autograd>=1.3->lifelines) (0.16.0)\n",
            "Collecting interface-meta>=1.2\n",
            "  Downloading interface_meta-1.2.4-py2.py3-none-any.whl (14 kB)\n",
            "Requirement already satisfied: astor in /usr/local/lib/python3.7/dist-packages (from formulaic<0.3,>=0.2.2->lifelines) (0.8.1)\n",
            "Requirement already satisfied: wrapt in /usr/local/lib/python3.7/dist-packages (from formulaic<0.3,>=0.2.2->lifelines) (1.12.1)\n",
            "Requirement already satisfied: python-dateutil>=2.1 in /usr/local/lib/python3.7/dist-packages (from matplotlib>=3.0->lifelines) (2.8.2)\n",
            "Requirement already satisfied: kiwisolver>=1.0.1 in /usr/local/lib/python3.7/dist-packages (from matplotlib>=3.0->lifelines) (1.3.2)\n",
            "Requirement already satisfied: cycler>=0.10 in /usr/local/lib/python3.7/dist-packages (from matplotlib>=3.0->lifelines) (0.10.0)\n",
            "Requirement already satisfied: pyparsing!=2.0.4,!=2.1.2,!=2.1.6,>=2.0.1 in /usr/local/lib/python3.7/dist-packages (from matplotlib>=3.0->lifelines) (2.4.7)\n",
            "Requirement already satisfied: six in /usr/local/lib/python3.7/dist-packages (from cycler>=0.10->matplotlib>=3.0->lifelines) (1.15.0)\n",
            "Requirement already satisfied: pytz>=2017.2 in /usr/local/lib/python3.7/dist-packages (from pandas>=0.23.0->lifelines) (2018.9)\n",
            "Building wheels for collected packages: autograd-gamma\n",
            "  Building wheel for autograd-gamma (setup.py) ... \u001b[?25l\u001b[?25hdone\n",
            "  Created wheel for autograd-gamma: filename=autograd_gamma-0.5.0-py3-none-any.whl size=4049 sha256=9fb5fc564daec039b150a44ba9b4a66eee7322846064ea84705931598e452c9e\n",
            "  Stored in directory: /root/.cache/pip/wheels/9f/01/ee/1331593abb5725ff7d8c1333aee93a50a1c29d6ddda9665c9f\n",
            "Successfully built autograd-gamma\n",
            "Installing collected packages: interface-meta, formulaic, autograd-gamma, lifelines\n",
            "Successfully installed autograd-gamma-0.5.0 formulaic-0.2.4 interface-meta-1.2.4 lifelines-0.26.3\n"
          ]
        }
      ]
    },
    {
      "cell_type": "code",
      "metadata": {
        "colab": {
          "base_uri": "https://localhost:8080/"
        },
        "id": "uq9XsjikL6oA",
        "outputId": "627349e7-6b62-4c7f-dd2b-6262b2d5e8c4"
      },
      "source": [
        "from google.colab import drive\n",
        "drive.mount('/content/gdrive')"
      ],
      "execution_count": 4,
      "outputs": [
        {
          "output_type": "stream",
          "name": "stdout",
          "text": [
            "Mounted at /content/gdrive\n"
          ]
        }
      ]
    },
    {
      "cell_type": "code",
      "metadata": {
        "id": "vm5lgaiAXJdp"
      },
      "source": [
        "df = pd.read_csv('/content/gdrive/My Drive/NSRL experiments/NSRL 19A (CDDO)/19A Males Manuscript/Submission 2/Study Materials/NSRL 19A Males Survival.csv')"
      ],
      "execution_count": 5,
      "outputs": []
    },
    {
      "cell_type": "code",
      "metadata": {
        "colab": {
          "base_uri": "https://localhost:8080/"
        },
        "id": "p-alv-gIcGu7",
        "outputId": "af84be82-9427-4796-ca0c-f31baee882a3"
      },
      "source": [
        "pd.set_option(\"display.max_rows\", None, \"display.max_columns\", None) #allows us to see the full data table\n",
        "print(df)"
      ],
      "execution_count": 8,
      "outputs": [
        {
          "output_type": "stream",
          "name": "stdout",
          "text": [
            "    Weeks post-IRR  Exclusion  Diet  Radiation\n",
            "0                2          1     0          0\n",
            "1                2          1     0          0\n",
            "2                2          1     0          0\n",
            "3                3          1     0          0\n",
            "4                3          1     0          0\n",
            "5                3          1     0          0\n",
            "6                3          1     0          0\n",
            "7               42          0     0          0\n",
            "8               42          0     0          0\n",
            "9               42          0     0          0\n",
            "10              42          0     0          0\n",
            "11              42          0     0          0\n",
            "12              42          0     0          0\n",
            "13              42          0     0          0\n",
            "14              42          0     0          0\n",
            "15              42          0     0          0\n",
            "16              42          0     0          0\n",
            "17              42          0     0          0\n",
            "18              42          0     0          0\n",
            "19              42          0     0          0\n",
            "20               1          1     0          1\n",
            "21               1          1     0          1\n",
            "22               1          1     0          1\n",
            "23               2          1     0          1\n",
            "24               2          1     0          1\n",
            "25               2          1     0          1\n",
            "26               3          1     0          1\n",
            "27               3          1     0          1\n",
            "28               3          1     0          1\n",
            "29               3          1     0          1\n",
            "30               4          1     0          1\n",
            "31              27          1     0          1\n",
            "32              37          1     0          1\n",
            "33              42          0     0          1\n",
            "34              42          0     0          1\n",
            "35              42          0     0          1\n",
            "36              42          0     0          1\n",
            "37              42          0     0          1\n",
            "38              42          0     0          1\n",
            "39              42          0     0          1\n",
            "40              42          0     0          1\n",
            "41              42          0     0          1\n",
            "42              42          0     0          1\n",
            "43              42          0     0          1\n",
            "44               1          1     1          0\n",
            "45               1          1     1          0\n",
            "46               1          1     1          0\n",
            "47               1          1     1          0\n",
            "48               1          1     1          0\n",
            "49               1          1     1          0\n",
            "50               2          1     1          0\n",
            "51               3          1     1          0\n",
            "52               3          1     1          0\n",
            "53              40          1     1          0\n",
            "54              40          1     1          0\n",
            "55              40          1     1          0\n",
            "56              42          0     1          0\n",
            "57              42          0     1          0\n",
            "58              42          0     1          0\n",
            "59              42          0     1          0\n",
            "60              42          0     1          0\n",
            "61              42          0     1          0\n",
            "62              42          0     1          0\n",
            "63              42          0     1          0\n",
            "64              42          0     1          0\n",
            "65              42          0     1          0\n",
            "66              42          0     1          0\n",
            "67              42          0     1          0\n",
            "68               1          1     1          1\n",
            "69               1          1     1          1\n",
            "70               2          1     1          1\n",
            "71               2          1     1          1\n",
            "72               2          1     1          1\n",
            "73               3          1     1          1\n",
            "74               3          1     1          1\n",
            "75              11          1     1          1\n",
            "76              11          1     1          1\n",
            "77              37          1     1          1\n",
            "78              42          0     1          1\n",
            "79              42          0     1          1\n",
            "80              42          0     1          1\n",
            "81              42          0     1          1\n",
            "82              42          0     1          1\n",
            "83              42          0     1          1\n",
            "84              42          0     1          1\n",
            "85              42          0     1          1\n",
            "86              42          0     1          1\n",
            "87              42          0     1          1\n",
            "88              42          0     1          1\n",
            "89              42          0     1          1\n",
            "90              42          0     1          1\n",
            "91              42          0     1          1\n"
          ]
        }
      ]
    },
    {
      "cell_type": "code",
      "metadata": {
        "colab": {
          "base_uri": "https://localhost:8080/",
          "height": 779
        },
        "id": "301-fF7SLMz6",
        "outputId": "0c603b5e-e400-422b-e983-fff27c700192"
      },
      "source": [
        "from lifelines import CoxPHFitter\n",
        "\n",
        "cph = CoxPHFitter()\n",
        "cph.fit(df, duration_col='Weeks post-IRR', event_col='Exclusion')\n",
        "\n",
        "cph.print_summary()\n",
        "cph.plot()"
      ],
      "execution_count": 9,
      "outputs": [
        {
          "output_type": "display_data",
          "data": {
            "text/latex": "\\begin{tabular}{lrrrrrrrrrr}\n\\toprule\n{} &  coef &  exp(coef) &  se(coef) &  coef lower 95\\% &  coef upper 95\\% &  exp(coef) lower 95\\% &  exp(coef) upper 95\\% &    z &    p &  -log2(p) \\\\\ncovariate &       &            &           &                 &                 &                      &                      &      &      &           \\\\\n\\midrule\nDiet      &  0.02 &       1.02 &      0.31 &           -0.58 &            0.63 &                 0.56 &                 1.87 & 0.07 & 0.94 &      0.09 \\\\\nRadiation &  0.12 &       1.12 &      0.31 &           -0.49 &            0.72 &                 0.61 &                 2.06 & 0.37 & 0.71 &      0.49 \\\\\n\\bottomrule\n\\end{tabular}\n",
            "text/html": [
              "<div>\n",
              "<style scoped>\n",
              "    .dataframe tbody tr th:only-of-type {\n",
              "        vertical-align: middle;\n",
              "    }\n",
              "\n",
              "    .dataframe tbody tr th {\n",
              "        vertical-align: top;\n",
              "    }\n",
              "\n",
              "    .dataframe thead th {\n",
              "        text-align: right;\n",
              "    }\n",
              "</style>\n",
              "<table border=\"1\" class=\"dataframe\">\n",
              "  <tbody>\n",
              "    <tr>\n",
              "      <th>model</th>\n",
              "      <td>lifelines.CoxPHFitter</td>\n",
              "    </tr>\n",
              "    <tr>\n",
              "      <th>duration col</th>\n",
              "      <td>'Weeks post-IRR'</td>\n",
              "    </tr>\n",
              "    <tr>\n",
              "      <th>event col</th>\n",
              "      <td>'Death'</td>\n",
              "    </tr>\n",
              "    <tr>\n",
              "      <th>baseline estimation</th>\n",
              "      <td>breslow</td>\n",
              "    </tr>\n",
              "    <tr>\n",
              "      <th>number of observations</th>\n",
              "      <td>92</td>\n",
              "    </tr>\n",
              "    <tr>\n",
              "      <th>number of events observed</th>\n",
              "      <td>42</td>\n",
              "    </tr>\n",
              "    <tr>\n",
              "      <th>partial log-likelihood</th>\n",
              "      <td>-178.64</td>\n",
              "    </tr>\n",
              "    <tr>\n",
              "      <th>time fit was run</th>\n",
              "      <td>2021-10-07 17:01:09 UTC</td>\n",
              "    </tr>\n",
              "  </tbody>\n",
              "</table>\n",
              "</div><table border=\"1\" class=\"dataframe\">\n",
              "  <thead>\n",
              "    <tr style=\"text-align: right;\">\n",
              "      <th style=\"min-width: 12px;\"></th>\n",
              "      <th style=\"min-width: 12px;\">coef</th>\n",
              "      <th style=\"min-width: 12px;\">exp(coef)</th>\n",
              "      <th style=\"min-width: 12px;\">se(coef)</th>\n",
              "      <th style=\"min-width: 12px;\">coef lower 95%</th>\n",
              "      <th style=\"min-width: 12px;\">coef upper 95%</th>\n",
              "      <th style=\"min-width: 12px;\">exp(coef) lower 95%</th>\n",
              "      <th style=\"min-width: 12px;\">exp(coef) upper 95%</th>\n",
              "      <th style=\"min-width: 12px;\">z</th>\n",
              "      <th style=\"min-width: 12px;\">p</th>\n",
              "      <th style=\"min-width: 12px;\">-log2(p)</th>\n",
              "    </tr>\n",
              "  </thead>\n",
              "  <tbody>\n",
              "    <tr>\n",
              "      <th>Diet</th>\n",
              "      <td>0.02</td>\n",
              "      <td>1.02</td>\n",
              "      <td>0.31</td>\n",
              "      <td>-0.58</td>\n",
              "      <td>0.63</td>\n",
              "      <td>0.56</td>\n",
              "      <td>1.87</td>\n",
              "      <td>0.07</td>\n",
              "      <td>0.94</td>\n",
              "      <td>0.09</td>\n",
              "    </tr>\n",
              "    <tr>\n",
              "      <th>Radiation</th>\n",
              "      <td>0.12</td>\n",
              "      <td>1.12</td>\n",
              "      <td>0.31</td>\n",
              "      <td>-0.49</td>\n",
              "      <td>0.72</td>\n",
              "      <td>0.61</td>\n",
              "      <td>2.06</td>\n",
              "      <td>0.37</td>\n",
              "      <td>0.71</td>\n",
              "      <td>0.49</td>\n",
              "    </tr>\n",
              "  </tbody>\n",
              "</table><br><div>\n",
              "<style scoped>\n",
              "    .dataframe tbody tr th:only-of-type {\n",
              "        vertical-align: middle;\n",
              "    }\n",
              "\n",
              "    .dataframe tbody tr th {\n",
              "        vertical-align: top;\n",
              "    }\n",
              "\n",
              "    .dataframe thead th {\n",
              "        text-align: right;\n",
              "    }\n",
              "</style>\n",
              "<table border=\"1\" class=\"dataframe\">\n",
              "  <tbody>\n",
              "    <tr>\n",
              "      <th>Concordance</th>\n",
              "      <td>0.51</td>\n",
              "    </tr>\n",
              "    <tr>\n",
              "      <th>Partial AIC</th>\n",
              "      <td>361.27</td>\n",
              "    </tr>\n",
              "    <tr>\n",
              "      <th>log-likelihood ratio test</th>\n",
              "      <td>0.15 on 2 df</td>\n",
              "    </tr>\n",
              "    <tr>\n",
              "      <th>-log2(p) of ll-ratio test</th>\n",
              "      <td>0.10</td>\n",
              "    </tr>\n",
              "  </tbody>\n",
              "</table>\n",
              "</div>"
            ],
            "text/plain": [
              "<lifelines.CoxPHFitter: fitted with 92 total observations, 50 right-censored observations>\n",
              "             duration col = 'Weeks post-IRR'\n",
              "                event col = 'Exclusion'\n",
              "      baseline estimation = breslow\n",
              "   number of observations = 92\n",
              "number of events observed = 42\n",
              "   partial log-likelihood = -178.64\n",
              "         time fit was run = 2021-10-07 17:01:09 UTC\n",
              "\n",
              "---\n",
              "            coef  exp(coef)   se(coef)   coef lower 95%   coef upper 95%  exp(coef) lower 95%  exp(coef) upper 95%\n",
              "covariate                                                                                                         \n",
              "Diet        0.02       1.02       0.31            -0.58             0.63                 0.56                 1.87\n",
              "Radiation   0.12       1.12       0.31            -0.49             0.72                 0.61                 2.06\n",
              "\n",
              "             z    p   -log2(p)\n",
              "covariate                     \n",
              "Diet      0.07 0.94       0.09\n",
              "Radiation 0.37 0.71       0.49\n",
              "---\n",
              "Concordance = 0.51\n",
              "Partial AIC = 361.27\n",
              "log-likelihood ratio test = 0.15 on 2 df\n",
              "-log2(p) of ll-ratio test = 0.10"
            ]
          },
          "metadata": {}
        },
        {
          "output_type": "execute_result",
          "data": {
            "text/plain": [
              "<matplotlib.axes._subplots.AxesSubplot at 0x7fab1177a1d0>"
            ]
          },
          "metadata": {},
          "execution_count": 9
        },
        {
          "output_type": "display_data",
          "data": {
            "image/png": "[encoded data removed]",
            "text/plain": [
              "<Figure size 432x288 with 1 Axes>"
            ]
          },
          "metadata": {
            "needs_background": "light"
          }
        }
      ]
    }
  ]
}
